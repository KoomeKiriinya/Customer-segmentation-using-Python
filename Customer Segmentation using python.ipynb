{
 "cells": [
  {
   "cell_type": "markdown",
   "metadata": {},
   "source": [
    "# Building Cohort metrics based on customer data"
   ]
  },
  {
   "cell_type": "code",
   "execution_count": 1,
   "metadata": {},
   "outputs": [],
   "source": [
    "#various cohort metrics can be built i.e retention,average price,average quantity,sum price e.t.c"
   ]
  },
  {
   "cell_type": "code",
   "execution_count": 2,
   "metadata": {},
   "outputs": [],
   "source": [
    "#import required libraries\n",
    "import pandas as pd\n",
    "import datetime as dt\n",
    "import seaborn as sns\n",
    "import matplotlib.pyplot as plt\n",
    "import numpy as np\n",
    "from sklearn.preprocessing import StandardScaler\n",
    "from sklearn.cluster import KMeans"
   ]
  },
  {
   "cell_type": "code",
   "execution_count": 3,
   "metadata": {},
   "outputs": [],
   "source": [
    "#load the dataset\n",
    "retail_data=pd.read_excel(r\"online_retail_II.xlsx\")"
   ]
  },
  {
   "cell_type": "code",
   "execution_count": 4,
   "metadata": {},
   "outputs": [
    {
     "data": {
      "text/html": [
       "<div>\n",
       "<style scoped>\n",
       "    .dataframe tbody tr th:only-of-type {\n",
       "        vertical-align: middle;\n",
       "    }\n",
       "\n",
       "    .dataframe tbody tr th {\n",
       "        vertical-align: top;\n",
       "    }\n",
       "\n",
       "    .dataframe thead th {\n",
       "        text-align: right;\n",
       "    }\n",
       "</style>\n",
       "<table border=\"1\" class=\"dataframe\">\n",
       "  <thead>\n",
       "    <tr style=\"text-align: right;\">\n",
       "      <th></th>\n",
       "      <th>Invoice</th>\n",
       "      <th>StockCode</th>\n",
       "      <th>Description</th>\n",
       "      <th>Quantity</th>\n",
       "      <th>InvoiceDate</th>\n",
       "      <th>Price</th>\n",
       "      <th>Customer ID</th>\n",
       "      <th>Country</th>\n",
       "    </tr>\n",
       "  </thead>\n",
       "  <tbody>\n",
       "    <tr>\n",
       "      <th>0</th>\n",
       "      <td>489434</td>\n",
       "      <td>85048</td>\n",
       "      <td>15CM CHRISTMAS GLASS BALL 20 LIGHTS</td>\n",
       "      <td>12</td>\n",
       "      <td>2009-12-01 07:45:00</td>\n",
       "      <td>6.95</td>\n",
       "      <td>13085.0</td>\n",
       "      <td>United Kingdom</td>\n",
       "    </tr>\n",
       "    <tr>\n",
       "      <th>1</th>\n",
       "      <td>489434</td>\n",
       "      <td>79323P</td>\n",
       "      <td>PINK CHERRY LIGHTS</td>\n",
       "      <td>12</td>\n",
       "      <td>2009-12-01 07:45:00</td>\n",
       "      <td>6.75</td>\n",
       "      <td>13085.0</td>\n",
       "      <td>United Kingdom</td>\n",
       "    </tr>\n",
       "    <tr>\n",
       "      <th>2</th>\n",
       "      <td>489434</td>\n",
       "      <td>79323W</td>\n",
       "      <td>WHITE CHERRY LIGHTS</td>\n",
       "      <td>12</td>\n",
       "      <td>2009-12-01 07:45:00</td>\n",
       "      <td>6.75</td>\n",
       "      <td>13085.0</td>\n",
       "      <td>United Kingdom</td>\n",
       "    </tr>\n",
       "    <tr>\n",
       "      <th>3</th>\n",
       "      <td>489434</td>\n",
       "      <td>22041</td>\n",
       "      <td>RECORD FRAME 7\" SINGLE SIZE</td>\n",
       "      <td>48</td>\n",
       "      <td>2009-12-01 07:45:00</td>\n",
       "      <td>2.10</td>\n",
       "      <td>13085.0</td>\n",
       "      <td>United Kingdom</td>\n",
       "    </tr>\n",
       "    <tr>\n",
       "      <th>4</th>\n",
       "      <td>489434</td>\n",
       "      <td>21232</td>\n",
       "      <td>STRAWBERRY CERAMIC TRINKET BOX</td>\n",
       "      <td>24</td>\n",
       "      <td>2009-12-01 07:45:00</td>\n",
       "      <td>1.25</td>\n",
       "      <td>13085.0</td>\n",
       "      <td>United Kingdom</td>\n",
       "    </tr>\n",
       "  </tbody>\n",
       "</table>\n",
       "</div>"
      ],
      "text/plain": [
       "  Invoice StockCode                          Description  Quantity  \\\n",
       "0  489434     85048  15CM CHRISTMAS GLASS BALL 20 LIGHTS        12   \n",
       "1  489434    79323P                   PINK CHERRY LIGHTS        12   \n",
       "2  489434    79323W                  WHITE CHERRY LIGHTS        12   \n",
       "3  489434     22041         RECORD FRAME 7\" SINGLE SIZE         48   \n",
       "4  489434     21232       STRAWBERRY CERAMIC TRINKET BOX        24   \n",
       "\n",
       "          InvoiceDate  Price  Customer ID         Country  \n",
       "0 2009-12-01 07:45:00   6.95      13085.0  United Kingdom  \n",
       "1 2009-12-01 07:45:00   6.75      13085.0  United Kingdom  \n",
       "2 2009-12-01 07:45:00   6.75      13085.0  United Kingdom  \n",
       "3 2009-12-01 07:45:00   2.10      13085.0  United Kingdom  \n",
       "4 2009-12-01 07:45:00   1.25      13085.0  United Kingdom  "
      ]
     },
     "execution_count": 4,
     "metadata": {},
     "output_type": "execute_result"
    }
   ],
   "source": [
    "#display the first few columns\n",
    "retail_data.head(5)"
   ]
  },
  {
   "cell_type": "code",
   "execution_count": 5,
   "metadata": {},
   "outputs": [
    {
     "data": {
      "text/plain": [
       "Invoice             0\n",
       "StockCode           0\n",
       "Description      2928\n",
       "Quantity            0\n",
       "InvoiceDate         0\n",
       "Price               0\n",
       "Customer ID    107927\n",
       "Country             0\n",
       "dtype: int64"
      ]
     },
     "execution_count": 5,
     "metadata": {},
     "output_type": "execute_result"
    }
   ],
   "source": [
    "#view null values\n",
    "retail_data.isna().sum()"
   ]
  },
  {
   "cell_type": "code",
   "execution_count": 6,
   "metadata": {},
   "outputs": [
    {
     "data": {
      "text/plain": [
       "Invoice                object\n",
       "StockCode              object\n",
       "Description            object\n",
       "Quantity                int64\n",
       "InvoiceDate    datetime64[ns]\n",
       "Price                 float64\n",
       "Customer ID           float64\n",
       "Country                object\n",
       "dtype: object"
      ]
     },
     "execution_count": 6,
     "metadata": {},
     "output_type": "execute_result"
    }
   ],
   "source": [
    "#get the datatype of the columns\n",
    "retail_data.dtypes"
   ]
  },
  {
   "cell_type": "code",
   "execution_count": 7,
   "metadata": {},
   "outputs": [],
   "source": [
    "#drop null values based on customer ID\n",
    "retail_data=retail_data.dropna(subset=['Customer ID'])"
   ]
  },
  {
   "cell_type": "code",
   "execution_count": 8,
   "metadata": {},
   "outputs": [],
   "source": [
    "# get the first purchase month\n",
    "#first convert data time to date \n",
    "retail_data['Datepurchase']=retail_data['InvoiceDate'].apply(lambda x: dt.datetime(x.year,x.month,x.day))"
   ]
  },
  {
   "cell_type": "code",
   "execution_count": 9,
   "metadata": {},
   "outputs": [],
   "source": [
    "# groupby customer id to get first purchase\n",
    "grouping=retail_data.groupby('Customer ID')['Datepurchase']"
   ]
  },
  {
   "cell_type": "code",
   "execution_count": 10,
   "metadata": {},
   "outputs": [],
   "source": [
    "# groupby customer id to get first purchase\n",
    "retail_data['First Purchase']=grouping.transform('min')"
   ]
  },
  {
   "cell_type": "code",
   "execution_count": 11,
   "metadata": {},
   "outputs": [
    {
     "data": {
      "text/html": [
       "<div>\n",
       "<style scoped>\n",
       "    .dataframe tbody tr th:only-of-type {\n",
       "        vertical-align: middle;\n",
       "    }\n",
       "\n",
       "    .dataframe tbody tr th {\n",
       "        vertical-align: top;\n",
       "    }\n",
       "\n",
       "    .dataframe thead th {\n",
       "        text-align: right;\n",
       "    }\n",
       "</style>\n",
       "<table border=\"1\" class=\"dataframe\">\n",
       "  <thead>\n",
       "    <tr style=\"text-align: right;\">\n",
       "      <th></th>\n",
       "      <th>Invoice</th>\n",
       "      <th>StockCode</th>\n",
       "      <th>Description</th>\n",
       "      <th>Quantity</th>\n",
       "      <th>InvoiceDate</th>\n",
       "      <th>Price</th>\n",
       "      <th>Customer ID</th>\n",
       "      <th>Country</th>\n",
       "      <th>Datepurchase</th>\n",
       "      <th>First Purchase</th>\n",
       "    </tr>\n",
       "  </thead>\n",
       "  <tbody>\n",
       "    <tr>\n",
       "      <th>0</th>\n",
       "      <td>489434</td>\n",
       "      <td>85048</td>\n",
       "      <td>15CM CHRISTMAS GLASS BALL 20 LIGHTS</td>\n",
       "      <td>12</td>\n",
       "      <td>2009-12-01 07:45:00</td>\n",
       "      <td>6.95</td>\n",
       "      <td>13085.0</td>\n",
       "      <td>United Kingdom</td>\n",
       "      <td>2009-12-01</td>\n",
       "      <td>2009-12-01</td>\n",
       "    </tr>\n",
       "    <tr>\n",
       "      <th>1</th>\n",
       "      <td>489434</td>\n",
       "      <td>79323P</td>\n",
       "      <td>PINK CHERRY LIGHTS</td>\n",
       "      <td>12</td>\n",
       "      <td>2009-12-01 07:45:00</td>\n",
       "      <td>6.75</td>\n",
       "      <td>13085.0</td>\n",
       "      <td>United Kingdom</td>\n",
       "      <td>2009-12-01</td>\n",
       "      <td>2009-12-01</td>\n",
       "    </tr>\n",
       "    <tr>\n",
       "      <th>2</th>\n",
       "      <td>489434</td>\n",
       "      <td>79323W</td>\n",
       "      <td>WHITE CHERRY LIGHTS</td>\n",
       "      <td>12</td>\n",
       "      <td>2009-12-01 07:45:00</td>\n",
       "      <td>6.75</td>\n",
       "      <td>13085.0</td>\n",
       "      <td>United Kingdom</td>\n",
       "      <td>2009-12-01</td>\n",
       "      <td>2009-12-01</td>\n",
       "    </tr>\n",
       "    <tr>\n",
       "      <th>3</th>\n",
       "      <td>489434</td>\n",
       "      <td>22041</td>\n",
       "      <td>RECORD FRAME 7\" SINGLE SIZE</td>\n",
       "      <td>48</td>\n",
       "      <td>2009-12-01 07:45:00</td>\n",
       "      <td>2.10</td>\n",
       "      <td>13085.0</td>\n",
       "      <td>United Kingdom</td>\n",
       "      <td>2009-12-01</td>\n",
       "      <td>2009-12-01</td>\n",
       "    </tr>\n",
       "    <tr>\n",
       "      <th>4</th>\n",
       "      <td>489434</td>\n",
       "      <td>21232</td>\n",
       "      <td>STRAWBERRY CERAMIC TRINKET BOX</td>\n",
       "      <td>24</td>\n",
       "      <td>2009-12-01 07:45:00</td>\n",
       "      <td>1.25</td>\n",
       "      <td>13085.0</td>\n",
       "      <td>United Kingdom</td>\n",
       "      <td>2009-12-01</td>\n",
       "      <td>2009-12-01</td>\n",
       "    </tr>\n",
       "  </tbody>\n",
       "</table>\n",
       "</div>"
      ],
      "text/plain": [
       "  Invoice StockCode                          Description  Quantity  \\\n",
       "0  489434     85048  15CM CHRISTMAS GLASS BALL 20 LIGHTS        12   \n",
       "1  489434    79323P                   PINK CHERRY LIGHTS        12   \n",
       "2  489434    79323W                  WHITE CHERRY LIGHTS        12   \n",
       "3  489434     22041         RECORD FRAME 7\" SINGLE SIZE         48   \n",
       "4  489434     21232       STRAWBERRY CERAMIC TRINKET BOX        24   \n",
       "\n",
       "          InvoiceDate  Price  Customer ID         Country Datepurchase  \\\n",
       "0 2009-12-01 07:45:00   6.95      13085.0  United Kingdom   2009-12-01   \n",
       "1 2009-12-01 07:45:00   6.75      13085.0  United Kingdom   2009-12-01   \n",
       "2 2009-12-01 07:45:00   6.75      13085.0  United Kingdom   2009-12-01   \n",
       "3 2009-12-01 07:45:00   2.10      13085.0  United Kingdom   2009-12-01   \n",
       "4 2009-12-01 07:45:00   1.25      13085.0  United Kingdom   2009-12-01   \n",
       "\n",
       "  First Purchase  \n",
       "0     2009-12-01  \n",
       "1     2009-12-01  \n",
       "2     2009-12-01  \n",
       "3     2009-12-01  \n",
       "4     2009-12-01  "
      ]
     },
     "execution_count": 11,
     "metadata": {},
     "output_type": "execute_result"
    }
   ],
   "source": [
    "retail_data.head(5)"
   ]
  },
  {
   "cell_type": "code",
   "execution_count": 12,
   "metadata": {},
   "outputs": [
    {
     "data": {
      "text/plain": [
       "Invoice                   object\n",
       "StockCode                 object\n",
       "Description               object\n",
       "Quantity                   int64\n",
       "InvoiceDate       datetime64[ns]\n",
       "Price                    float64\n",
       "Customer ID              float64\n",
       "Country                   object\n",
       "Datepurchase      datetime64[ns]\n",
       "First Purchase    datetime64[ns]\n",
       "dtype: object"
      ]
     },
     "execution_count": 12,
     "metadata": {},
     "output_type": "execute_result"
    }
   ],
   "source": [
    "#view data types once more\n",
    "retail_data.dtypes"
   ]
  },
  {
   "cell_type": "code",
   "execution_count": 13,
   "metadata": {},
   "outputs": [],
   "source": [
    "#get the difference in months since first purchase \n",
    "retail_data['difference in months']=retail_data[['Datepurchase','First Purchase']].apply(lambda x: int(np.floor(abs((x['Datepurchase']-x['First Purchase']).days)/30)+1),axis=1)"
   ]
  },
  {
   "cell_type": "code",
   "execution_count": 14,
   "metadata": {},
   "outputs": [],
   "source": [
    "retail_data['month of first purchase']=retail_data['First Purchase'].apply(lambda x: dt.datetime(x.year,x.month,1))"
   ]
  },
  {
   "cell_type": "code",
   "execution_count": 15,
   "metadata": {},
   "outputs": [],
   "source": [
    "cohort_counts=pd.pivot_table(retail_data,index=['month of first purchase'],columns=['difference in months'],values=['Customer ID'],aggfunc={\n",
    "    'Customer ID':'count'\n",
    "})"
   ]
  },
  {
   "cell_type": "code",
   "execution_count": 16,
   "metadata": {},
   "outputs": [],
   "source": [
    "#convert_index to string values\n",
    "cohort_counts.index=cohort_counts.reset_index().iloc[:,0].apply(lambda x:x.strftime('%Y-%m-%d'))\n",
    "#choose first index name\n",
    "cohort_counts.index.name=cohort_counts.index.name[0]"
   ]
  },
  {
   "cell_type": "code",
   "execution_count": 17,
   "metadata": {},
   "outputs": [],
   "source": [
    "#rename the columns to months\n",
    "cohort_counts.columns=[i for i in range(1,14)]\n",
    "initial_cohort_values=cohort_counts.iloc[:,0]"
   ]
  },
  {
   "cell_type": "code",
   "execution_count": 18,
   "metadata": {},
   "outputs": [
    {
     "data": {
      "image/png": "[encoded data removed]",
      "text/plain": [
       "<Figure size 1296x576 with 2 Axes>"
      ]
     },
     "metadata": {
      "needs_background": "light"
     },
     "output_type": "display_data"
    }
   ],
   "source": [
    "#plot a heatmap of the customer retention rate\n",
    "plt.figure(figsize=(18,8))\n",
    "sns.heatmap(cohort_counts.divide(initial_cohort_values,axis=0).round(2),annot=True,vmin=0,vmax=1,cmap='BuGn',fmt='.0%')\n",
    "plt.xlabel('Months since first day of visit')\n",
    "plt.title('Heat map showing customer retentions rate in percentages %')\n",
    "plt.show()"
   ]
  },
  {
   "cell_type": "markdown",
   "metadata": {},
   "source": [
    "More metrics can be built such as quanitity mean,quantity sum"
   ]
  },
  {
   "cell_type": "markdown",
   "metadata": {},
   "source": [
    "# Build an RFM analysis"
   ]
  },
  {
   "cell_type": "code",
   "execution_count": 19,
   "metadata": {},
   "outputs": [
    {
     "data": {
      "text/html": [
       "<div>\n",
       "<style scoped>\n",
       "    .dataframe tbody tr th:only-of-type {\n",
       "        vertical-align: middle;\n",
       "    }\n",
       "\n",
       "    .dataframe tbody tr th {\n",
       "        vertical-align: top;\n",
       "    }\n",
       "\n",
       "    .dataframe thead th {\n",
       "        text-align: right;\n",
       "    }\n",
       "</style>\n",
       "<table border=\"1\" class=\"dataframe\">\n",
       "  <thead>\n",
       "    <tr style=\"text-align: right;\">\n",
       "      <th></th>\n",
       "      <th>Invoice</th>\n",
       "      <th>StockCode</th>\n",
       "      <th>Description</th>\n",
       "      <th>Quantity</th>\n",
       "      <th>InvoiceDate</th>\n",
       "      <th>Price</th>\n",
       "      <th>Customer ID</th>\n",
       "      <th>Country</th>\n",
       "      <th>Datepurchase</th>\n",
       "      <th>First Purchase</th>\n",
       "      <th>difference in months</th>\n",
       "      <th>month of first purchase</th>\n",
       "    </tr>\n",
       "  </thead>\n",
       "  <tbody>\n",
       "    <tr>\n",
       "      <th>0</th>\n",
       "      <td>489434</td>\n",
       "      <td>85048</td>\n",
       "      <td>15CM CHRISTMAS GLASS BALL 20 LIGHTS</td>\n",
       "      <td>12</td>\n",
       "      <td>2009-12-01 07:45:00</td>\n",
       "      <td>6.95</td>\n",
       "      <td>13085.0</td>\n",
       "      <td>United Kingdom</td>\n",
       "      <td>2009-12-01</td>\n",
       "      <td>2009-12-01</td>\n",
       "      <td>1</td>\n",
       "      <td>2009-12-01</td>\n",
       "    </tr>\n",
       "    <tr>\n",
       "      <th>1</th>\n",
       "      <td>489434</td>\n",
       "      <td>79323P</td>\n",
       "      <td>PINK CHERRY LIGHTS</td>\n",
       "      <td>12</td>\n",
       "      <td>2009-12-01 07:45:00</td>\n",
       "      <td>6.75</td>\n",
       "      <td>13085.0</td>\n",
       "      <td>United Kingdom</td>\n",
       "      <td>2009-12-01</td>\n",
       "      <td>2009-12-01</td>\n",
       "      <td>1</td>\n",
       "      <td>2009-12-01</td>\n",
       "    </tr>\n",
       "    <tr>\n",
       "      <th>2</th>\n",
       "      <td>489434</td>\n",
       "      <td>79323W</td>\n",
       "      <td>WHITE CHERRY LIGHTS</td>\n",
       "      <td>12</td>\n",
       "      <td>2009-12-01 07:45:00</td>\n",
       "      <td>6.75</td>\n",
       "      <td>13085.0</td>\n",
       "      <td>United Kingdom</td>\n",
       "      <td>2009-12-01</td>\n",
       "      <td>2009-12-01</td>\n",
       "      <td>1</td>\n",
       "      <td>2009-12-01</td>\n",
       "    </tr>\n",
       "    <tr>\n",
       "      <th>3</th>\n",
       "      <td>489434</td>\n",
       "      <td>22041</td>\n",
       "      <td>RECORD FRAME 7\" SINGLE SIZE</td>\n",
       "      <td>48</td>\n",
       "      <td>2009-12-01 07:45:00</td>\n",
       "      <td>2.10</td>\n",
       "      <td>13085.0</td>\n",
       "      <td>United Kingdom</td>\n",
       "      <td>2009-12-01</td>\n",
       "      <td>2009-12-01</td>\n",
       "      <td>1</td>\n",
       "      <td>2009-12-01</td>\n",
       "    </tr>\n",
       "    <tr>\n",
       "      <th>4</th>\n",
       "      <td>489434</td>\n",
       "      <td>21232</td>\n",
       "      <td>STRAWBERRY CERAMIC TRINKET BOX</td>\n",
       "      <td>24</td>\n",
       "      <td>2009-12-01 07:45:00</td>\n",
       "      <td>1.25</td>\n",
       "      <td>13085.0</td>\n",
       "      <td>United Kingdom</td>\n",
       "      <td>2009-12-01</td>\n",
       "      <td>2009-12-01</td>\n",
       "      <td>1</td>\n",
       "      <td>2009-12-01</td>\n",
       "    </tr>\n",
       "  </tbody>\n",
       "</table>\n",
       "</div>"
      ],
      "text/plain": [
       "  Invoice StockCode                          Description  Quantity  \\\n",
       "0  489434     85048  15CM CHRISTMAS GLASS BALL 20 LIGHTS        12   \n",
       "1  489434    79323P                   PINK CHERRY LIGHTS        12   \n",
       "2  489434    79323W                  WHITE CHERRY LIGHTS        12   \n",
       "3  489434     22041         RECORD FRAME 7\" SINGLE SIZE         48   \n",
       "4  489434     21232       STRAWBERRY CERAMIC TRINKET BOX        24   \n",
       "\n",
       "          InvoiceDate  Price  Customer ID         Country Datepurchase  \\\n",
       "0 2009-12-01 07:45:00   6.95      13085.0  United Kingdom   2009-12-01   \n",
       "1 2009-12-01 07:45:00   6.75      13085.0  United Kingdom   2009-12-01   \n",
       "2 2009-12-01 07:45:00   6.75      13085.0  United Kingdom   2009-12-01   \n",
       "3 2009-12-01 07:45:00   2.10      13085.0  United Kingdom   2009-12-01   \n",
       "4 2009-12-01 07:45:00   1.25      13085.0  United Kingdom   2009-12-01   \n",
       "\n",
       "  First Purchase  difference in months month of first purchase  \n",
       "0     2009-12-01                     1              2009-12-01  \n",
       "1     2009-12-01                     1              2009-12-01  \n",
       "2     2009-12-01                     1              2009-12-01  \n",
       "3     2009-12-01                     1              2009-12-01  \n",
       "4     2009-12-01                     1              2009-12-01  "
      ]
     },
     "execution_count": 19,
     "metadata": {},
     "output_type": "execute_result"
    }
   ],
   "source": [
    "#build based on amount spent i.e monetary\n",
    "#view the data\n",
    "retail_data.head(5)"
   ]
  },
  {
   "cell_type": "code",
   "execution_count": 20,
   "metadata": {},
   "outputs": [],
   "source": [
    "retail_data['Total sum']=retail_data['Quantity']*retail_data['Price']"
   ]
  },
  {
   "cell_type": "code",
   "execution_count": 21,
   "metadata": {},
   "outputs": [],
   "source": [
    "#do it with a groupby\n",
    "snapshot_date=retail_data['Datepurchase'].max()+dt.timedelta(days=1)\n",
    "rfm_data=retail_data.groupby('Customer ID').aggregate({'InvoiceDate':lambda x: (snapshot_date-x.max()).days,\n",
    "                                              'Invoice':'count',\n",
    "                                              'Total sum':'sum'\n",
    "                                             }).reset_index().rename(columns={'InvoiceDate':'Recency','Invoice':'Frequency','Total sum':'Monetary'})\n"
   ]
  },
  {
   "cell_type": "code",
   "execution_count": 22,
   "metadata": {},
   "outputs": [
    {
     "data": {
      "text/html": [
       "<div>\n",
       "<style scoped>\n",
       "    .dataframe tbody tr th:only-of-type {\n",
       "        vertical-align: middle;\n",
       "    }\n",
       "\n",
       "    .dataframe tbody tr th {\n",
       "        vertical-align: top;\n",
       "    }\n",
       "\n",
       "    .dataframe thead th {\n",
       "        text-align: right;\n",
       "    }\n",
       "</style>\n",
       "<table border=\"1\" class=\"dataframe\">\n",
       "  <thead>\n",
       "    <tr style=\"text-align: right;\">\n",
       "      <th></th>\n",
       "      <th>Customer ID</th>\n",
       "      <th>Recency</th>\n",
       "      <th>Frequency</th>\n",
       "      <th>Monetary</th>\n",
       "    </tr>\n",
       "  </thead>\n",
       "  <tbody>\n",
       "    <tr>\n",
       "      <th>748</th>\n",
       "      <td>13418.0</td>\n",
       "      <td>7</td>\n",
       "      <td>261</td>\n",
       "      <td>6070.72</td>\n",
       "    </tr>\n",
       "    <tr>\n",
       "      <th>3712</th>\n",
       "      <td>17381.0</td>\n",
       "      <td>3</td>\n",
       "      <td>65</td>\n",
       "      <td>19726.76</td>\n",
       "    </tr>\n",
       "    <tr>\n",
       "      <th>2039</th>\n",
       "      <td>15143.0</td>\n",
       "      <td>67</td>\n",
       "      <td>17</td>\n",
       "      <td>304.18</td>\n",
       "    </tr>\n",
       "    <tr>\n",
       "      <th>4324</th>\n",
       "      <td>18210.0</td>\n",
       "      <td>17</td>\n",
       "      <td>10</td>\n",
       "      <td>147.45</td>\n",
       "    </tr>\n",
       "    <tr>\n",
       "      <th>550</th>\n",
       "      <td>13138.0</td>\n",
       "      <td>7</td>\n",
       "      <td>37</td>\n",
       "      <td>492.10</td>\n",
       "    </tr>\n",
       "  </tbody>\n",
       "</table>\n",
       "</div>"
      ],
      "text/plain": [
       "      Customer ID  Recency  Frequency  Monetary\n",
       "748       13418.0        7        261   6070.72\n",
       "3712      17381.0        3         65  19726.76\n",
       "2039      15143.0       67         17    304.18\n",
       "4324      18210.0       17         10    147.45\n",
       "550       13138.0        7         37    492.10"
      ]
     },
     "execution_count": 22,
     "metadata": {},
     "output_type": "execute_result"
    }
   ],
   "source": [
    "rfm_data.sample(5)"
   ]
  },
  {
   "cell_type": "code",
   "execution_count": 23,
   "metadata": {},
   "outputs": [],
   "source": [
    "#get the quartile of rfm\n",
    "frequency_quartiles=pd.qcut(rfm_data['Frequency'],q=4,labels=range(1,5))\n",
    "monetary_quartiles=pd.qcut(rfm_data['Monetary'],q=4,labels=range(1,5))\n",
    "recency_quartiles=pd.qcut(rfm_data['Recency'],q=4,labels=range(4,0,-1))"
   ]
  },
  {
   "cell_type": "code",
   "execution_count": 24,
   "metadata": {},
   "outputs": [],
   "source": [
    "#assign the quartiles to the data frame\n",
    "rfm_data['Recency_quartiles']=recency_quartiles\n",
    "rfm_data['Frequency_quartiles']=frequency_quartiles\n",
    "rfm_data['Monetary_quartiles']=monetary_quartiles"
   ]
  },
  {
   "cell_type": "code",
   "execution_count": 25,
   "metadata": {},
   "outputs": [
    {
     "data": {
      "text/html": [
       "<div>\n",
       "<style scoped>\n",
       "    .dataframe tbody tr th:only-of-type {\n",
       "        vertical-align: middle;\n",
       "    }\n",
       "\n",
       "    .dataframe tbody tr th {\n",
       "        vertical-align: top;\n",
       "    }\n",
       "\n",
       "    .dataframe thead th {\n",
       "        text-align: right;\n",
       "    }\n",
       "</style>\n",
       "<table border=\"1\" class=\"dataframe\">\n",
       "  <thead>\n",
       "    <tr style=\"text-align: right;\">\n",
       "      <th></th>\n",
       "      <th>Customer ID</th>\n",
       "      <th>Recency</th>\n",
       "      <th>Frequency</th>\n",
       "      <th>Monetary</th>\n",
       "      <th>Recency_quartiles</th>\n",
       "      <th>Frequency_quartiles</th>\n",
       "      <th>Monetary_quartiles</th>\n",
       "    </tr>\n",
       "  </thead>\n",
       "  <tbody>\n",
       "    <tr>\n",
       "      <th>2760</th>\n",
       "      <td>16127.0</td>\n",
       "      <td>361</td>\n",
       "      <td>35</td>\n",
       "      <td>145.06</td>\n",
       "      <td>1</td>\n",
       "      <td>2</td>\n",
       "      <td>1</td>\n",
       "    </tr>\n",
       "    <tr>\n",
       "      <th>959</th>\n",
       "      <td>13696.0</td>\n",
       "      <td>56</td>\n",
       "      <td>25</td>\n",
       "      <td>2008.70</td>\n",
       "      <td>2</td>\n",
       "      <td>2</td>\n",
       "      <td>4</td>\n",
       "    </tr>\n",
       "    <tr>\n",
       "      <th>3239</th>\n",
       "      <td>16771.0</td>\n",
       "      <td>92</td>\n",
       "      <td>157</td>\n",
       "      <td>1720.79</td>\n",
       "      <td>2</td>\n",
       "      <td>4</td>\n",
       "      <td>4</td>\n",
       "    </tr>\n",
       "    <tr>\n",
       "      <th>2792</th>\n",
       "      <td>16166.0</td>\n",
       "      <td>63</td>\n",
       "      <td>26</td>\n",
       "      <td>327.48</td>\n",
       "      <td>2</td>\n",
       "      <td>2</td>\n",
       "      <td>2</td>\n",
       "    </tr>\n",
       "    <tr>\n",
       "      <th>3922</th>\n",
       "      <td>17662.0</td>\n",
       "      <td>296</td>\n",
       "      <td>15</td>\n",
       "      <td>412.92</td>\n",
       "      <td>1</td>\n",
       "      <td>1</td>\n",
       "      <td>2</td>\n",
       "    </tr>\n",
       "  </tbody>\n",
       "</table>\n",
       "</div>"
      ],
      "text/plain": [
       "      Customer ID  Recency  Frequency  Monetary Recency_quartiles  \\\n",
       "2760      16127.0      361         35    145.06                 1   \n",
       "959       13696.0       56         25   2008.70                 2   \n",
       "3239      16771.0       92        157   1720.79                 2   \n",
       "2792      16166.0       63         26    327.48                 2   \n",
       "3922      17662.0      296         15    412.92                 1   \n",
       "\n",
       "     Frequency_quartiles Monetary_quartiles  \n",
       "2760                   2                  1  \n",
       "959                    2                  4  \n",
       "3239                   4                  4  \n",
       "2792                   2                  2  \n",
       "3922                   1                  2  "
      ]
     },
     "execution_count": 25,
     "metadata": {},
     "output_type": "execute_result"
    }
   ],
   "source": [
    "rfm_data.sample(5)"
   ]
  },
  {
   "cell_type": "code",
   "execution_count": 26,
   "metadata": {},
   "outputs": [],
   "source": [
    "#assign the rfm values as the segment\n",
    "rfm_data['rfm_segment']=rfm_data[['Recency_quartiles','Frequency_quartiles','Monetary_quartiles']].apply(lambda x:str(x['Recency_quartiles'])+str(x['Frequency_quartiles'])+str(x['Monetary_quartiles']),axis=1)"
   ]
  },
  {
   "cell_type": "code",
   "execution_count": 27,
   "metadata": {},
   "outputs": [],
   "source": [
    "#calculate and rfm score\n",
    "rfm_data['rfm_score']=rfm_data[['Recency_quartiles','Frequency_quartiles','Monetary_quartiles']].apply(lambda x:int(x['Recency_quartiles'])+int(x['Frequency_quartiles'])+int(x['Monetary_quartiles']),axis=1)"
   ]
  },
  {
   "cell_type": "code",
   "execution_count": 28,
   "metadata": {},
   "outputs": [
    {
     "data": {
      "text/html": [
       "<div>\n",
       "<style scoped>\n",
       "    .dataframe tbody tr th:only-of-type {\n",
       "        vertical-align: middle;\n",
       "    }\n",
       "\n",
       "    .dataframe tbody tr th {\n",
       "        vertical-align: top;\n",
       "    }\n",
       "\n",
       "    .dataframe thead th {\n",
       "        text-align: right;\n",
       "    }\n",
       "</style>\n",
       "<table border=\"1\" class=\"dataframe\">\n",
       "  <thead>\n",
       "    <tr style=\"text-align: right;\">\n",
       "      <th></th>\n",
       "      <th>Customer ID</th>\n",
       "      <th>Recency</th>\n",
       "      <th>Frequency</th>\n",
       "      <th>Monetary</th>\n",
       "      <th>Recency_quartiles</th>\n",
       "      <th>Frequency_quartiles</th>\n",
       "      <th>Monetary_quartiles</th>\n",
       "      <th>rfm_segment</th>\n",
       "      <th>rfm_score</th>\n",
       "    </tr>\n",
       "  </thead>\n",
       "  <tbody>\n",
       "    <tr>\n",
       "      <th>295</th>\n",
       "      <td>12803.0</td>\n",
       "      <td>28</td>\n",
       "      <td>55</td>\n",
       "      <td>1092.81</td>\n",
       "      <td>3</td>\n",
       "      <td>3</td>\n",
       "      <td>3</td>\n",
       "      <td>333</td>\n",
       "      <td>9</td>\n",
       "    </tr>\n",
       "    <tr>\n",
       "      <th>1011</th>\n",
       "      <td>13767.0</td>\n",
       "      <td>4</td>\n",
       "      <td>442</td>\n",
       "      <td>18169.97</td>\n",
       "      <td>4</td>\n",
       "      <td>4</td>\n",
       "      <td>4</td>\n",
       "      <td>444</td>\n",
       "      <td>12</td>\n",
       "    </tr>\n",
       "    <tr>\n",
       "      <th>2820</th>\n",
       "      <td>16202.0</td>\n",
       "      <td>52</td>\n",
       "      <td>108</td>\n",
       "      <td>2101.77</td>\n",
       "      <td>2</td>\n",
       "      <td>4</td>\n",
       "      <td>4</td>\n",
       "      <td>244</td>\n",
       "      <td>10</td>\n",
       "    </tr>\n",
       "    <tr>\n",
       "      <th>3967</th>\n",
       "      <td>17717.0</td>\n",
       "      <td>56</td>\n",
       "      <td>26</td>\n",
       "      <td>376.92</td>\n",
       "      <td>2</td>\n",
       "      <td>2</td>\n",
       "      <td>2</td>\n",
       "      <td>222</td>\n",
       "      <td>6</td>\n",
       "    </tr>\n",
       "    <tr>\n",
       "      <th>3360</th>\n",
       "      <td>16934.0</td>\n",
       "      <td>18</td>\n",
       "      <td>84</td>\n",
       "      <td>1139.81</td>\n",
       "      <td>3</td>\n",
       "      <td>3</td>\n",
       "      <td>3</td>\n",
       "      <td>333</td>\n",
       "      <td>9</td>\n",
       "    </tr>\n",
       "    <tr>\n",
       "      <th>2598</th>\n",
       "      <td>15918.0</td>\n",
       "      <td>266</td>\n",
       "      <td>21</td>\n",
       "      <td>248.65</td>\n",
       "      <td>1</td>\n",
       "      <td>2</td>\n",
       "      <td>1</td>\n",
       "      <td>121</td>\n",
       "      <td>4</td>\n",
       "    </tr>\n",
       "  </tbody>\n",
       "</table>\n",
       "</div>"
      ],
      "text/plain": [
       "      Customer ID  Recency  Frequency  Monetary Recency_quartiles  \\\n",
       "295       12803.0       28         55   1092.81                 3   \n",
       "1011      13767.0        4        442  18169.97                 4   \n",
       "2820      16202.0       52        108   2101.77                 2   \n",
       "3967      17717.0       56         26    376.92                 2   \n",
       "3360      16934.0       18         84   1139.81                 3   \n",
       "2598      15918.0      266         21    248.65                 1   \n",
       "\n",
       "     Frequency_quartiles Monetary_quartiles rfm_segment  rfm_score  \n",
       "295                    3                  3         333          9  \n",
       "1011                   4                  4         444         12  \n",
       "2820                   4                  4         244         10  \n",
       "3967                   2                  2         222          6  \n",
       "3360                   3                  3         333          9  \n",
       "2598                   2                  1         121          4  "
      ]
     },
     "execution_count": 28,
     "metadata": {},
     "output_type": "execute_result"
    }
   ],
   "source": [
    "rfm_data.sample(6)"
   ]
  },
  {
   "cell_type": "code",
   "execution_count": 29,
   "metadata": {},
   "outputs": [
    {
     "data": {
      "image/png": "[encoded data removed]",
      "text/plain": [
       "<Figure size 1296x576 with 1 Axes>"
      ]
     },
     "metadata": {
      "needs_background": "light"
     },
     "output_type": "display_data"
    }
   ],
   "source": [
    "#review the largest rfm segments\n",
    "first_segments=rfm_data.groupby('rfm_segment').size().sort_values(ascending=False)[:10]\n",
    "plt.figure(figsize=(18,8))\n",
    "sns.barplot(x=first_segments.index,y=first_segments.values,order=first_segments.index,palette=\"Blues_d\")\n",
    "plt.ylabel('Number of customers')\n",
    "plt.title('Number of customers per RFM Segment')\n",
    "plt.show()"
   ]
  },
  {
   "cell_type": "code",
   "execution_count": 30,
   "metadata": {},
   "outputs": [],
   "source": [
    "#create custom grouping base on rfm score\n",
    "def create_class(x):\n",
    "    if x >=9:\n",
    "        return \"Gold\"\n",
    "    elif x>=5 and x<9:\n",
    "        return 'Silver'\n",
    "    else:\n",
    "        return 'Bronze'"
   ]
  },
  {
   "cell_type": "code",
   "execution_count": 31,
   "metadata": {},
   "outputs": [],
   "source": [
    "rfm_data['class']=rfm_data['rfm_score'].apply(lambda x:create_class(x))"
   ]
  },
  {
   "cell_type": "code",
   "execution_count": 32,
   "metadata": {},
   "outputs": [],
   "source": [
    "#group and get recency frequency and monetary values\n",
    "rfm_classes=rfm_data.groupby('class').aggregate({\n",
    "    'Recency':'mean',\n",
    "    'Frequency':'mean',\n",
    "    'Monetary':['mean','count']\n",
    "}).reset_index()"
   ]
  },
  {
   "cell_type": "code",
   "execution_count": 33,
   "metadata": {},
   "outputs": [],
   "source": [
    "rfm_classes.columns=['Class','Recency','Frequency','Monetary','Count']"
   ]
  },
  {
   "cell_type": "code",
   "execution_count": 34,
   "metadata": {},
   "outputs": [
    {
     "data": {
      "text/html": [
       "<div>\n",
       "<style scoped>\n",
       "    .dataframe tbody tr th:only-of-type {\n",
       "        vertical-align: middle;\n",
       "    }\n",
       "\n",
       "    .dataframe tbody tr th {\n",
       "        vertical-align: top;\n",
       "    }\n",
       "\n",
       "    .dataframe thead th {\n",
       "        text-align: right;\n",
       "    }\n",
       "</style>\n",
       "<table border=\"1\" class=\"dataframe\">\n",
       "  <thead>\n",
       "    <tr style=\"text-align: right;\">\n",
       "      <th></th>\n",
       "      <th>Class</th>\n",
       "      <th>Recency</th>\n",
       "      <th>Frequency</th>\n",
       "      <th>Monetary</th>\n",
       "      <th>Count</th>\n",
       "    </tr>\n",
       "  </thead>\n",
       "  <tbody>\n",
       "    <tr>\n",
       "      <th>1</th>\n",
       "      <td>Gold</td>\n",
       "      <td>26.668824</td>\n",
       "      <td>199.304118</td>\n",
       "      <td>4158.521882</td>\n",
       "      <td>1700</td>\n",
       "    </tr>\n",
       "    <tr>\n",
       "      <th>2</th>\n",
       "      <td>Silver</td>\n",
       "      <td>93.407606</td>\n",
       "      <td>37.276915</td>\n",
       "      <td>658.991218</td>\n",
       "      <td>1867</td>\n",
       "    </tr>\n",
       "    <tr>\n",
       "      <th>0</th>\n",
       "      <td>Bronze</td>\n",
       "      <td>216.269608</td>\n",
       "      <td>11.177696</td>\n",
       "      <td>59.295063</td>\n",
       "      <td>816</td>\n",
       "    </tr>\n",
       "  </tbody>\n",
       "</table>\n",
       "</div>"
      ],
      "text/plain": [
       "    Class     Recency   Frequency     Monetary  Count\n",
       "1    Gold   26.668824  199.304118  4158.521882   1700\n",
       "2  Silver   93.407606   37.276915   658.991218   1867\n",
       "0  Bronze  216.269608   11.177696    59.295063    816"
      ]
     },
     "execution_count": 34,
     "metadata": {},
     "output_type": "execute_result"
    }
   ],
   "source": [
    "rfm_classes.sort_values('Monetary',ascending=False)"
   ]
  },
  {
   "cell_type": "markdown",
   "metadata": {},
   "source": [
    "# Kmeans clustering"
   ]
  },
  {
   "cell_type": "markdown",
   "metadata": {},
   "source": [
    "[<font color=blue>Kmeans explained </font>](https://www.youtube.com/watch?v=4b5d3muPQmA&t=94s) steps\n",
    "1. Select the number of clusters(groups) you want to identify in your data. This also the K in K means clustering\n",
    "2. Randomly select 3 distinct data points\n",
    "3. Measure the distance between the first point and the three initial cluster (euclidean distance). Assign the point to the nearest cluster. Do that for all the other points.\n",
    "4. Calculate the mean of each cluster.\n",
    "5. Repeat measuring the nearest cluster with the mean values, iterate until there is no change in the output BAM!!\n",
    "6. Assess the quality of the clustering by adding up variation within cluster use kmeans.inertia_ to get variation/ \n",
    "    The sum of squared errors\n",
    "Repeat it all again with other starting points and pick clustering with the least variation\n",
    "\n",
    "<font color=Red> How do we identify the number of clusters to use ?</font>\n",
    "1.Each time we add a new cluster i.e increase the value of K the total variation reduces and the total variation goes to zero\n",
    "if we have one point per cluster.\n",
    "2. What is the point of doing clustering if we have one point per cluster???...\n",
    "3. Thus we plot the variation with increasing values of K and pick the point where variation no longer decreases by a huge point i.e the elbow and pick K at that point as shown in the video\n",
    "\n",
    "\n",
    "\n"
   ]
  },
  {
   "cell_type": "markdown",
   "metadata": {},
   "source": [
    "Kmeans key assumptions\n",
    "1. All variables have a symmetric distribution i.e the distribution is not skewed\n",
    "2. All variables have the same average values\n",
    "3. Skewness can be reduced by taking the log of each of the variables"
   ]
  },
  {
   "cell_type": "markdown",
   "metadata": {},
   "source": [
    "# Prepare the data before applying Kmeans"
   ]
  },
  {
   "cell_type": "code",
   "execution_count": 35,
   "metadata": {},
   "outputs": [
    {
     "name": "stderr",
     "output_type": "stream",
     "text": [
      "C:\\Users\\User\\Anaconda2\\lib\\site-packages\\scipy\\stats\\stats.py:1713: FutureWarning: Using a non-tuple sequence for multidimensional indexing is deprecated; use `arr[tuple(seq)]` instead of `arr[seq]`. In the future this will be interpreted as an array index, `arr[np.array(seq)]`, which will result either in an error or a different result.\n",
      "  return np.add.reduce(sorted[indexer] * weights, axis=axis) / sumval\n"
     ]
    },
    {
     "data": {
      "image/png": "[encoded data removed]",
      "text/plain": [
       "<Figure size 1296x576 with 1 Axes>"
      ]
     },
     "metadata": {
      "needs_background": "light"
     },
     "output_type": "display_data"
    }
   ],
   "source": [
    "#explore the recency variable from our data\n",
    "plt.figure(figsize=(18,8))\n",
    "sns.distplot(rfm_data['Recency'],color='blue')\n",
    "plt.title(\"Distribution of recency\")\n",
    "plt.show()"
   ]
  },
  {
   "cell_type": "raw",
   "metadata": {},
   "source": [
    "As from above we observe that recency is rightly skewed"
   ]
  },
  {
   "cell_type": "code",
   "execution_count": 36,
   "metadata": {},
   "outputs": [
    {
     "data": {
      "image/png": "[encoded data removed]",
      "text/plain": [
       "<Figure size 1296x576 with 1 Axes>"
      ]
     },
     "metadata": {
      "needs_background": "light"
     },
     "output_type": "display_data"
    }
   ],
   "source": [
    "#explore the frequency variable from our data\n",
    "plt.figure(figsize=(18,8))\n",
    "sns.distplot(rfm_data['Frequency'],color='blue')\n",
    "plt.title(\"Distribution of Frequency\")\n",
    "plt.show()"
   ]
  },
  {
   "cell_type": "raw",
   "metadata": {},
   "source": [
    "As from above we observe that recency is rightly skewed"
   ]
  },
  {
   "cell_type": "markdown",
   "metadata": {},
   "source": [
    "<font color=blue>How do we manage skewness?</font>\n",
    "\n",
    "1. The easiest way on managing skewness is logarithmic transformation however this only works on positive values"
   ]
  },
  {
   "cell_type": "code",
   "execution_count": 37,
   "metadata": {},
   "outputs": [
    {
     "data": {
      "image/png": "[encoded data removed]",
      "text/plain": [
       "<Figure size 1296x576 with 1 Axes>"
      ]
     },
     "metadata": {
      "needs_background": "light"
     },
     "output_type": "display_data"
    }
   ],
   "source": [
    "#using np log to manage skewness\n",
    "frequency_log=np.log(rfm_data['Frequency'])\n",
    "plt.figure(figsize=(18,8))\n",
    "sns.distplot(frequency_log,color='blue')\n",
    "plt.title(\"Distribution of Frequency after applying np log\")\n",
    "plt.show()"
   ]
  },
  {
   "cell_type": "markdown",
   "metadata": {},
   "source": [
    "As from above the distribution seems to be normal\n",
    "\n",
    "Logarithmic transformation only deals with positive values.\n",
    "\n",
    "<font color=blue>How to deal with negative values ? </font>\n",
    "    \n",
    "1. Add a constant before log transformation\n",
    "2. Cube root transformation\n",
    "3. Other methods include normalization & Standardization"
   ]
  },
  {
   "cell_type": "markdown",
   "metadata": {},
   "source": [
    "<font color='blue'>Centering variables with different means</font>\n",
    "\n",
    "1. Centering can be done by subtracting the mean value from each variable.\n",
    "\n",
    "2. We also need to scale variable with different standard deviation we can do this by dividing by the SD.\n",
    "\n",
    "<font colour='blue'>Combining centering and scaling</font>\n",
    "\n",
    "1. Subtract the mean and divide by standard deviation manually \n",
    "2. Use a scaler from sklearn library which returns a numpy array which is faster for kmeans to run a model on"
   ]
  },
  {
   "cell_type": "code",
   "execution_count": 38,
   "metadata": {},
   "outputs": [
    {
     "data": {
      "text/html": [
       "<div>\n",
       "<style scoped>\n",
       "    .dataframe tbody tr th:only-of-type {\n",
       "        vertical-align: middle;\n",
       "    }\n",
       "\n",
       "    .dataframe tbody tr th {\n",
       "        vertical-align: top;\n",
       "    }\n",
       "\n",
       "    .dataframe thead th {\n",
       "        text-align: right;\n",
       "    }\n",
       "</style>\n",
       "<table border=\"1\" class=\"dataframe\">\n",
       "  <thead>\n",
       "    <tr style=\"text-align: right;\">\n",
       "      <th></th>\n",
       "      <th>Recency</th>\n",
       "      <th>Frequency</th>\n",
       "      <th>Monetary</th>\n",
       "    </tr>\n",
       "  </thead>\n",
       "  <tbody>\n",
       "    <tr>\n",
       "      <th>count</th>\n",
       "      <td>4383.000000</td>\n",
       "      <td>4383.000000</td>\n",
       "      <td>4383.000000</td>\n",
       "    </tr>\n",
       "    <tr>\n",
       "      <th>mean</th>\n",
       "      <td>90.395848</td>\n",
       "      <td>95.262149</td>\n",
       "      <td>1904.679118</td>\n",
       "    </tr>\n",
       "    <tr>\n",
       "      <th>std</th>\n",
       "      <td>98.177019</td>\n",
       "      <td>204.903882</td>\n",
       "      <td>8519.369281</td>\n",
       "    </tr>\n",
       "    <tr>\n",
       "      <th>min</th>\n",
       "      <td>0.000000</td>\n",
       "      <td>1.000000</td>\n",
       "      <td>-25111.090000</td>\n",
       "    </tr>\n",
       "    <tr>\n",
       "      <th>25%</th>\n",
       "      <td>16.000000</td>\n",
       "      <td>18.000000</td>\n",
       "      <td>285.260000</td>\n",
       "    </tr>\n",
       "    <tr>\n",
       "      <th>50%</th>\n",
       "      <td>51.000000</td>\n",
       "      <td>44.000000</td>\n",
       "      <td>655.940000</td>\n",
       "    </tr>\n",
       "    <tr>\n",
       "      <th>75%</th>\n",
       "      <td>137.000000</td>\n",
       "      <td>103.000000</td>\n",
       "      <td>1645.690000</td>\n",
       "    </tr>\n",
       "    <tr>\n",
       "      <th>max</th>\n",
       "      <td>373.000000</td>\n",
       "      <td>5710.000000</td>\n",
       "      <td>341776.730000</td>\n",
       "    </tr>\n",
       "  </tbody>\n",
       "</table>\n",
       "</div>"
      ],
      "text/plain": [
       "           Recency    Frequency       Monetary\n",
       "count  4383.000000  4383.000000    4383.000000\n",
       "mean     90.395848    95.262149    1904.679118\n",
       "std      98.177019   204.903882    8519.369281\n",
       "min       0.000000     1.000000  -25111.090000\n",
       "25%      16.000000    18.000000     285.260000\n",
       "50%      51.000000    44.000000     655.940000\n",
       "75%     137.000000   103.000000    1645.690000\n",
       "max     373.000000  5710.000000  341776.730000"
      ]
     },
     "execution_count": 38,
     "metadata": {},
     "output_type": "execute_result"
    }
   ],
   "source": [
    "#view key statistics of the data\n",
    "rfm_data[['Recency','Frequency','Monetary']].describe()"
   ]
  },
  {
   "cell_type": "markdown",
   "metadata": {},
   "source": [
    "As shown above there is a huge disparity in the mean"
   ]
  },
  {
   "cell_type": "code",
   "execution_count": 39,
   "metadata": {},
   "outputs": [
    {
     "name": "stderr",
     "output_type": "stream",
     "text": [
      "C:\\Users\\User\\Anaconda2\\lib\\site-packages\\ipykernel_launcher.py:4: SettingWithCopyWarning: \n",
      "A value is trying to be set on a copy of a slice from a DataFrame.\n",
      "Try using .loc[row_indexer,col_indexer] = value instead\n",
      "\n",
      "See the caveats in the documentation: http://pandas.pydata.org/pandas-docs/stable/indexing.html#indexing-view-versus-copy\n",
      "  after removing the cwd from sys.path.\n",
      "C:\\Users\\User\\Anaconda2\\lib\\site-packages\\ipykernel_launcher.py:5: SettingWithCopyWarning: \n",
      "A value is trying to be set on a copy of a slice from a DataFrame.\n",
      "Try using .loc[row_indexer,col_indexer] = value instead\n",
      "\n",
      "See the caveats in the documentation: http://pandas.pydata.org/pandas-docs/stable/indexing.html#indexing-view-versus-copy\n",
      "  \"\"\"\n",
      "C:\\Users\\User\\Anaconda2\\lib\\site-packages\\ipykernel_launcher.py:6: SettingWithCopyWarning: \n",
      "A value is trying to be set on a copy of a slice from a DataFrame.\n",
      "Try using .loc[row_indexer,col_indexer] = value instead\n",
      "\n",
      "See the caveats in the documentation: http://pandas.pydata.org/pandas-docs/stable/indexing.html#indexing-view-versus-copy\n",
      "  \n"
     ]
    }
   ],
   "source": [
    "rfm_rfm_data=rfm_data[['Recency','Frequency','Monetary']]\n",
    "#mutliply py -1 cases wherebey less than zero and add one to monetary \n",
    "#if less than this is because log makes this values inf or NAN if they are too small\n",
    "rfm_rfm_data['Monetary']=rfm_rfm_data['Monetary'].apply(lambda x: -1*x if x < 0 else x)\n",
    "rfm_rfm_data['Monetary']=rfm_rfm_data['Monetary'].apply(lambda x: x+1 if x < 1 else x)\n",
    "rfm_rfm_data['Recency']=rfm_rfm_data['Recency'].apply(lambda x: x+1 if x == 0 else x)"
   ]
  },
  {
   "cell_type": "code",
   "execution_count": 40,
   "metadata": {},
   "outputs": [],
   "source": [
    "#using standard scaler to normalize and center our data\n",
    "rfm_rfm_data_log=np.log(rfm_rfm_data.round(2))\n",
    "sc=StandardScaler()\n",
    "sc.fit(rfm_rfm_data_log)\n",
    "tr_rfm_rfm_data=sc.transform(rfm_rfm_data_log)\n"
   ]
  },
  {
   "cell_type": "code",
   "execution_count": 41,
   "metadata": {},
   "outputs": [
    {
     "name": "stdout",
     "output_type": "stream",
     "text": [
      "The mean of the data is [ 0. -0. -0.]\n",
      "The mean of the data is [1. 1. 1.]\n"
     ]
    }
   ],
   "source": [
    "print(\"The mean of the data is {}\".format(tr_rfm_rfm_data.mean(axis=0).round(2)))\n",
    "print(\"The mean of the data is {}\".format(tr_rfm_rfm_data.std(axis=0).round(2)))"
   ]
  },
  {
   "cell_type": "raw",
   "metadata": {},
   "source": [
    "A from above mean of all variables is almost similar as well as standard deviation."
   ]
  },
  {
   "cell_type": "markdown",
   "metadata": {},
   "source": [
    "<font color='blue'>The following sequence is to be followed when preparing the data.</font>\n",
    "1. Unskew the data log transformation\n",
    "2. Standardize to the same average values\n",
    "3. Scale to the same standard deviation\n",
    "4. Store as a separate array to be used for clustering\n"
   ]
  },
  {
   "cell_type": "markdown",
   "metadata": {},
   "source": [
    "# Apply Kmeans"
   ]
  },
  {
   "cell_type": "code",
   "execution_count": 42,
   "metadata": {},
   "outputs": [],
   "source": [
    "#creating the model \n",
    "kmeans=KMeans(n_clusters=3,random_state=1)"
   ]
  },
  {
   "cell_type": "code",
   "execution_count": 43,
   "metadata": {},
   "outputs": [
    {
     "data": {
      "text/plain": [
       "array([0, 1, 2])"
      ]
     },
     "execution_count": 43,
     "metadata": {},
     "output_type": "execute_result"
    }
   ],
   "source": [
    "#fit the model\n",
    "kmeans.fit(tr_rfm_rfm_data)\n",
    "#printing the unique labels/clusters.\n",
    "np.unique(kmeans.labels_)"
   ]
  },
  {
   "cell_type": "code",
   "execution_count": 44,
   "metadata": {},
   "outputs": [],
   "source": [
    "#first trial on Kmeans\n",
    "kmeans_rfm_data=rfm_rfm_data.assign(Cluster=kmeans.labels_)"
   ]
  },
  {
   "cell_type": "code",
   "execution_count": 45,
   "metadata": {},
   "outputs": [
    {
     "data": {
      "text/html": [
       "<div>\n",
       "<style scoped>\n",
       "    .dataframe tbody tr th:only-of-type {\n",
       "        vertical-align: middle;\n",
       "    }\n",
       "\n",
       "    .dataframe tbody tr th {\n",
       "        vertical-align: top;\n",
       "    }\n",
       "\n",
       "    .dataframe thead tr th {\n",
       "        text-align: left;\n",
       "    }\n",
       "\n",
       "    .dataframe thead tr:last-of-type th {\n",
       "        text-align: right;\n",
       "    }\n",
       "</style>\n",
       "<table border=\"1\" class=\"dataframe\">\n",
       "  <thead>\n",
       "    <tr>\n",
       "      <th></th>\n",
       "      <th>Recency</th>\n",
       "      <th>Frequency</th>\n",
       "      <th colspan=\"2\" halign=\"left\">Monetary</th>\n",
       "    </tr>\n",
       "    <tr>\n",
       "      <th></th>\n",
       "      <th>mean</th>\n",
       "      <th>mean</th>\n",
       "      <th>mean</th>\n",
       "      <th>count</th>\n",
       "    </tr>\n",
       "    <tr>\n",
       "      <th>Cluster</th>\n",
       "      <th></th>\n",
       "      <th></th>\n",
       "      <th></th>\n",
       "      <th></th>\n",
       "    </tr>\n",
       "  </thead>\n",
       "  <tbody>\n",
       "    <tr>\n",
       "      <th>0</th>\n",
       "      <td>11.210321</td>\n",
       "      <td>254.732230</td>\n",
       "      <td>5717.373893</td>\n",
       "      <td>1027</td>\n",
       "    </tr>\n",
       "    <tr>\n",
       "      <th>1</th>\n",
       "      <td>77.599097</td>\n",
       "      <td>69.040642</td>\n",
       "      <td>1160.345667</td>\n",
       "      <td>1993</td>\n",
       "    </tr>\n",
       "    <tr>\n",
       "      <th>2</th>\n",
       "      <td>168.862069</td>\n",
       "      <td>13.445341</td>\n",
       "      <td>259.149326</td>\n",
       "      <td>1363</td>\n",
       "    </tr>\n",
       "  </tbody>\n",
       "</table>\n",
       "</div>"
      ],
      "text/plain": [
       "            Recency   Frequency     Monetary      \n",
       "               mean        mean         mean count\n",
       "Cluster                                           \n",
       "0         11.210321  254.732230  5717.373893  1027\n",
       "1         77.599097   69.040642  1160.345667  1993\n",
       "2        168.862069   13.445341   259.149326  1363"
      ]
     },
     "execution_count": 45,
     "metadata": {},
     "output_type": "execute_result"
    }
   ],
   "source": [
    "kmeans_rfm_data.groupby('Cluster').agg({\n",
    "    'Recency':'mean',\n",
    "    'Frequency':'mean',\n",
    "    'Monetary':['mean','count']\n",
    "})"
   ]
  },
  {
   "cell_type": "code",
   "execution_count": 46,
   "metadata": {},
   "outputs": [],
   "source": [
    "#choose the number of clusters with Kmeans\n",
    "sse={}\n",
    "for i in range(1,20):\n",
    "    kmeans=KMeans(n_clusters=i,random_state=1)\n",
    "    kmeans.fit(rfm_rfm_data)\n",
    "    sse[i]=kmeans.inertia_\n",
    "        "
   ]
  },
  {
   "cell_type": "code",
   "execution_count": 47,
   "metadata": {},
   "outputs": [
    {
     "data": {
      "image/png": "[encoded data removed]",
      "text/plain": [
       "<Figure size 1296x576 with 1 Axes>"
      ]
     },
     "metadata": {
      "needs_background": "light"
     },
     "output_type": "display_data"
    }
   ],
   "source": [
    "#plot so as to get the elbow and choose the optimum number of clusters\n",
    "plt.figure(figsize=(18,8))\n",
    "sns.pointplot(x=list(sse.keys()),y=list(sse.values()),color='blue')\n",
    "plt.title(\"Plot of K against the SSE(variation from the cluster center)\")\n",
    "plt.xlabel(\"K\")\n",
    "plt.show()"
   ]
  },
  {
   "cell_type": "markdown",
   "metadata": {},
   "source": [
    "One may choose various points of the elbow e.g 2 or 3 and run Kmeans cluster on this choose the one with the best output based on your business needs"
   ]
  },
  {
   "cell_type": "code",
   "execution_count": 48,
   "metadata": {},
   "outputs": [
    {
     "data": {
      "text/html": [
       "<div>\n",
       "<style scoped>\n",
       "    .dataframe tbody tr th:only-of-type {\n",
       "        vertical-align: middle;\n",
       "    }\n",
       "\n",
       "    .dataframe tbody tr th {\n",
       "        vertical-align: top;\n",
       "    }\n",
       "\n",
       "    .dataframe thead tr th {\n",
       "        text-align: left;\n",
       "    }\n",
       "\n",
       "    .dataframe thead tr:last-of-type th {\n",
       "        text-align: right;\n",
       "    }\n",
       "</style>\n",
       "<table border=\"1\" class=\"dataframe\">\n",
       "  <thead>\n",
       "    <tr>\n",
       "      <th></th>\n",
       "      <th>Recency</th>\n",
       "      <th>Frequency</th>\n",
       "      <th colspan=\"2\" halign=\"left\">Monetary</th>\n",
       "    </tr>\n",
       "    <tr>\n",
       "      <th></th>\n",
       "      <th>mean</th>\n",
       "      <th>mean</th>\n",
       "      <th>mean</th>\n",
       "      <th>count</th>\n",
       "    </tr>\n",
       "    <tr>\n",
       "      <th>Cluster</th>\n",
       "      <th></th>\n",
       "      <th></th>\n",
       "      <th></th>\n",
       "      <th></th>\n",
       "    </tr>\n",
       "  </thead>\n",
       "  <tbody>\n",
       "    <tr>\n",
       "      <th>0</th>\n",
       "      <td>11.210321</td>\n",
       "      <td>254.732230</td>\n",
       "      <td>5717.373893</td>\n",
       "      <td>1027</td>\n",
       "    </tr>\n",
       "    <tr>\n",
       "      <th>1</th>\n",
       "      <td>77.599097</td>\n",
       "      <td>69.040642</td>\n",
       "      <td>1160.345667</td>\n",
       "      <td>1993</td>\n",
       "    </tr>\n",
       "    <tr>\n",
       "      <th>2</th>\n",
       "      <td>168.862069</td>\n",
       "      <td>13.445341</td>\n",
       "      <td>259.149326</td>\n",
       "      <td>1363</td>\n",
       "    </tr>\n",
       "  </tbody>\n",
       "</table>\n",
       "</div>"
      ],
      "text/plain": [
       "            Recency   Frequency     Monetary      \n",
       "               mean        mean         mean count\n",
       "Cluster                                           \n",
       "0         11.210321  254.732230  5717.373893  1027\n",
       "1         77.599097   69.040642  1160.345667  1993\n",
       "2        168.862069   13.445341   259.149326  1363"
      ]
     },
     "execution_count": 48,
     "metadata": {},
     "output_type": "execute_result"
    }
   ],
   "source": [
    "#implement Kmeans on k = 3 and k=4\n",
    "#earlier version was k=3 so we just copy the code\n",
    "kmeans_rfm_data.groupby('Cluster').agg({\n",
    "    'Recency':'mean',\n",
    "    'Frequency':'mean',\n",
    "    'Monetary':['mean','count']\n",
    "})\n"
   ]
  },
  {
   "cell_type": "code",
   "execution_count": 49,
   "metadata": {},
   "outputs": [
    {
     "data": {
      "text/html": [
       "<div>\n",
       "<style scoped>\n",
       "    .dataframe tbody tr th:only-of-type {\n",
       "        vertical-align: middle;\n",
       "    }\n",
       "\n",
       "    .dataframe tbody tr th {\n",
       "        vertical-align: top;\n",
       "    }\n",
       "\n",
       "    .dataframe thead th {\n",
       "        text-align: right;\n",
       "    }\n",
       "</style>\n",
       "<table border=\"1\" class=\"dataframe\">\n",
       "  <thead>\n",
       "    <tr style=\"text-align: right;\">\n",
       "      <th></th>\n",
       "      <th>Cluster</th>\n",
       "      <th>Recency</th>\n",
       "      <th>Frequency</th>\n",
       "      <th>Monetary</th>\n",
       "      <th>Count</th>\n",
       "    </tr>\n",
       "  </thead>\n",
       "  <tbody>\n",
       "    <tr>\n",
       "      <th>1</th>\n",
       "      <td>1</td>\n",
       "      <td>5.234074</td>\n",
       "      <td>281.911111</td>\n",
       "      <td>7029.722615</td>\n",
       "      <td>675</td>\n",
       "    </tr>\n",
       "    <tr>\n",
       "      <th>3</th>\n",
       "      <td>3</td>\n",
       "      <td>51.404169</td>\n",
       "      <td>119.383995</td>\n",
       "      <td>1954.183677</td>\n",
       "      <td>1487</td>\n",
       "    </tr>\n",
       "    <tr>\n",
       "      <th>0</th>\n",
       "      <td>0</td>\n",
       "      <td>130.800472</td>\n",
       "      <td>27.646989</td>\n",
       "      <td>477.157852</td>\n",
       "      <td>1694</td>\n",
       "    </tr>\n",
       "    <tr>\n",
       "      <th>2</th>\n",
       "      <td>2</td>\n",
       "      <td>179.848197</td>\n",
       "      <td>5.476281</td>\n",
       "      <td>148.563833</td>\n",
       "      <td>527</td>\n",
       "    </tr>\n",
       "  </tbody>\n",
       "</table>\n",
       "</div>"
      ],
      "text/plain": [
       "   Cluster     Recency   Frequency     Monetary  Count\n",
       "1        1    5.234074  281.911111  7029.722615    675\n",
       "3        3   51.404169  119.383995  1954.183677   1487\n",
       "0        0  130.800472   27.646989   477.157852   1694\n",
       "2        2  179.848197    5.476281   148.563833    527"
      ]
     },
     "execution_count": 49,
     "metadata": {},
     "output_type": "execute_result"
    }
   ],
   "source": [
    "#implement k=4 and observe the output\n",
    "kmeans_2=KMeans(n_clusters=4,random_state=1)\n",
    "kmeans_2.fit(tr_rfm_rfm_data)\n",
    "kmeans_2_rfm_data=rfm_rfm_data.assign(Cluster=kmeans_2.labels_)\n",
    "kmeans_2_rfm_data=kmeans_2_rfm_data.groupby('Cluster').agg({\n",
    "    'Recency':'mean',\n",
    "    'Frequency':'mean',\n",
    "    'Monetary':['mean','count']\n",
    "}).reset_index()\n",
    "kmeans_2_rfm_data.columns=['Cluster','Recency','Frequency','Monetary','Count']\n",
    "kmeans_2_rfm_data=kmeans_2_rfm_data.sort_values('Monetary',ascending=False)\n",
    "kmeans_2_rfm_data"
   ]
  },
  {
   "cell_type": "markdown",
   "metadata": {},
   "source": [
    "As shown above 4 clusters seem to have a more granular view"
   ]
  },
  {
   "cell_type": "code",
   "execution_count": 50,
   "metadata": {},
   "outputs": [],
   "source": [
    "#prepare data for snakeplot visualization\n",
    "final_rfm_data=pd.DataFrame(tr_rfm_rfm_data,index=rfm_data['Customer ID'],columns=rfm_rfm_data.columns).reset_index()\n",
    "final_rfm_data=final_rfm_data.assign(Cluster=kmeans_2_rfm_data['Cluster'])\n",
    "final_rfm_data_melted=pd.melt(final_rfm_data,id_vars=['Customer ID','Cluster'],value_vars=['Recency','Frequency','Monetary'],var_name='Attribute',value_name='Value')"
   ]
  },
  {
   "cell_type": "code",
   "execution_count": 51,
   "metadata": {},
   "outputs": [
    {
     "data": {
      "image/png": "[encoded data removed]",
      "text/plain": [
       "<Figure size 1296x576 with 1 Axes>"
      ]
     },
     "metadata": {
      "needs_background": "light"
     },
     "output_type": "display_data"
    }
   ],
   "source": [
    "plt.figure(figsize=(18,8))\n",
    "sns.lineplot(x=final_rfm_data_melted['Attribute'],y=final_rfm_data_melted['Value'],hue=final_rfm_data_melted['Cluster'])\n",
    "plt.title(\"Line plot of standardized variable (Clusters)\")\n",
    "plt.show()"
   ]
  },
  {
   "cell_type": "code",
   "execution_count": 52,
   "metadata": {},
   "outputs": [],
   "source": [
    "#define the relative importance of the rfm values of each cluster i.e mean of the clusters - mean of the entire dataset\n",
    "#cluster avg/population avg -1\n",
    "\n",
    "relev_imp=((kmeans_2_rfm_data[['Recency','Frequency','Monetary']]/rfm_rfm_data.mean())-1).reset_index().rename(columns={'index':'Cluster'})"
   ]
  },
  {
   "cell_type": "code",
   "execution_count": 53,
   "metadata": {},
   "outputs": [
    {
     "data": {
      "image/png": "[encoded data removed]",
      "text/plain": [
       "<Figure size 1296x576 with 2 Axes>"
      ]
     },
     "metadata": {
      "needs_background": "light"
     },
     "output_type": "display_data"
    }
   ],
   "source": [
    "plt.figure(figsize=(18,8))\n",
    "sns.heatmap(relev_imp[['Recency','Frequency','Monetary']],annot=True,fmt='.2g',yticklabels=relev_imp['Cluster'])\n",
    "plt.ylabel(\"Cluster\")\n",
    "plt.xlabel(\"Metric\")\n",
    "plt.title(\"Heat Map showing relevance importance of RFM values to various values.\")\n",
    "plt.show()\n"
   ]
  }
 ],
 "metadata": {
  "kernelspec": {
   "display_name": "Python 3",
   "language": "python",
   "name": "python3"
  },
  "language_info": {
   "codemirror_mode": {
    "name": "ipython",
    "version": 3
   },
   "file_extension": ".py",
   "mimetype": "text/x-python",
   "name": "python",
   "nbconvert_exporter": "python",
   "pygments_lexer": "ipython3",
   "version": "3.6.0"
  }
 },
 "nbformat": 4,
 "nbformat_minor": 2
}
